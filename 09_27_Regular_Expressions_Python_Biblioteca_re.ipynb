{
  "nbformat": 4,
  "nbformat_minor": 0,
  "metadata": {
    "kernelspec": {
      "display_name": "Python 3",
      "language": "python",
      "name": "python3"
    },
    "language_info": {
      "codemirror_mode": {
        "name": "ipython",
        "version": 3
      },
      "file_extension": ".py",
      "mimetype": "text/x-python",
      "name": "python",
      "nbconvert_exporter": "python",
      "pygments_lexer": "ipython3",
      "version": "3.8.3"
    },
    "colab": {
      "name": "09-27 - Regular Expressions - Python - Biblioteca re.ipynb",
      "provenance": [],
      "include_colab_link": true
    }
  },
  "cells": [
    {
      "cell_type": "markdown",
      "metadata": {
        "id": "view-in-github",
        "colab_type": "text"
      },
      "source": [
        "<a href=\"https://colab.research.google.com/github/EddyGiusepe/REGEX_Python/blob/main/09_27_Regular_Expressions_Python_Biblioteca_re.ipynb\" target=\"_parent\"><img src=\"https://colab.research.google.com/assets/colab-badge.svg\" alt=\"Open In Colab\"/></a>"
      ]
    },
    {
      "cell_type": "markdown",
      "metadata": {
        "id": "si1r-pqonR1n"
      },
      "source": [
        "# Regular Expressions (Regex) - Python"
      ]
    },
    {
      "cell_type": "markdown",
      "metadata": {
        "id": "davwSB4znR1q"
      },
      "source": [
        "#### Documentation : https://docs.python.org/3/howto/regex.html"
      ]
    },
    {
      "cell_type": "markdown",
      "metadata": {
        "id": "NA5DQYIBnR1q"
      },
      "source": [
        "## Importando a biblioteca:"
      ]
    },
    {
      "cell_type": "code",
      "metadata": {
        "id": "0hfTIvq-nR1r"
      },
      "source": [
        " import re"
      ],
      "execution_count": 1,
      "outputs": []
    },
    {
      "cell_type": "markdown",
      "metadata": {
        "id": "LkEv56mknR1r"
      },
      "source": [
        "## Caracteres:"
      ]
    },
    {
      "cell_type": "code",
      "metadata": {
        "colab": {
          "base_uri": "https://localhost:8080/"
        },
        "id": "Y14yOETPnR1s",
        "outputId": "b5bde2d9-ad58-49ca-bebf-7c5febff51cb"
      },
      "source": [
        "# . - Entende qualquer valor exceto uma nova linha\n",
        "# \\. - Para buscar o caracter \".\"\n",
        "texto = 'arara'\n",
        "t = re.compile(r'a...a')\n",
        "check = t.findall(texto)\n",
        "print(check)"
      ],
      "execution_count": 2,
      "outputs": [
        {
          "output_type": "stream",
          "name": "stdout",
          "text": [
            "['arara']\n"
          ]
        }
      ]
    },
    {
      "cell_type": "code",
      "metadata": {
        "id": "1YOK-VA5nR1t",
        "outputId": "a1b7ef50-572e-498a-dd42-ab3a2ec37a5c"
      },
      "source": [
        "# ^ - Irá testar o início da string\n",
        "# [^] -Irá considerar todos os caracteres EXCETO o indicado\n",
        "texto = 'arara'\n",
        "t = re.compile(r'[^a]')\n",
        "q = re.compile(r'^a')\n",
        "check = t.findall(texto)\n",
        "check1= q.findall(texto)\n",
        "print(check,'\\n',check1)"
      ],
      "execution_count": null,
      "outputs": [
        {
          "name": "stdout",
          "output_type": "stream",
          "text": [
            "['r', 'r'] \n",
            " ['a']\n"
          ]
        }
      ]
    },
    {
      "cell_type": "code",
      "metadata": {
        "id": "1xem9LsJnR1t",
        "outputId": "331464c9-1cc1-428b-f6f1-9cf5ce55bcd0"
      },
      "source": [
        "# \\d - Qualquer caracter que SEJA um algarismo  de 0 a 9\n",
        "# \\D - Qualquer caracter que NÃO SEJA um algarismo de 0 a 9\n",
        "texto = 'arara1992'\n",
        "t = re.compile(r'\\d')\n",
        "q = re.compile(r'\\D')\n",
        "check = t.findall(texto)\n",
        "check1= q.findall(texto)\n",
        "print(check,'\\n',check1)"
      ],
      "execution_count": null,
      "outputs": [
        {
          "name": "stdout",
          "output_type": "stream",
          "text": [
            "['1', '9', '9', '2'] \n",
            " ['a', 'r', 'a', 'r', 'a']\n"
          ]
        }
      ]
    },
    {
      "cell_type": "code",
      "metadata": {
        "id": "Kz8sO9PznR1u",
        "outputId": "ddda20fa-8f0b-4769-db0d-610cf107b924"
      },
      "source": [
        "# \\s - Qualquer caracter que SEJA vazio\n",
        "# \\S - Qualquer caracter que NÃO SEJA vazio\n",
        "texto = '''\n",
        "\n",
        "arara 1992\n",
        "\n",
        "'''\n",
        "t = re.compile(r'\\s')\n",
        "q = re.compile(r'\\S')\n",
        "check = t.findall(texto)\n",
        "check1= q.findall(texto)\n",
        "print(check,'\\n',check1)"
      ],
      "execution_count": null,
      "outputs": [
        {
          "name": "stdout",
          "output_type": "stream",
          "text": [
            "['\\n', '\\n', ' ', '\\n', '\\n'] \n",
            " ['a', 'r', 'a', 'r', 'a', '1', '9', '9', '2']\n"
          ]
        }
      ]
    },
    {
      "cell_type": "code",
      "metadata": {
        "id": "Szo1SLNqnR1u",
        "outputId": "3fa940d0-09bd-4e84-b2a0-ff3973be9308"
      },
      "source": [
        "# \\w - Qualquer caracter que SEJA alfanumérico\n",
        "# \\W - Qualquer caracter que NÃO SEJA Alfanumérico\n",
        "texto = '''\n",
        "\n",
        "_arara@ 1992_\n",
        "\n",
        "'''\n",
        "t = re.compile(r'\\w')\n",
        "q = re.compile(r'\\W')\n",
        "check = t.findall(texto)\n",
        "check1= q.findall(texto)\n",
        "print(check,'\\n',check1)"
      ],
      "execution_count": null,
      "outputs": [
        {
          "name": "stdout",
          "output_type": "stream",
          "text": [
            "['_', 'a', 'r', 'a', 'r', 'a', '1', '9', '9', '2', '_'] \n",
            " ['\\n', '\\n', '@', ' ', '\\n', '\\n']\n"
          ]
        }
      ]
    },
    {
      "cell_type": "markdown",
      "metadata": {
        "id": "z_N16x4znR1u"
      },
      "source": [
        "### Métodos para checagem:"
      ]
    },
    {
      "cell_type": "code",
      "metadata": {
        "id": "w7O32H8fnR1v",
        "outputId": "f1743aa9-c802-455e-c2ab-eb14b7495274"
      },
      "source": [
        "texto = 'arara'\n",
        "t = re.compile(r'a')\n",
        "check_findall = t.findall(texto)\n",
        "check_match = t.match(texto)\n",
        "check_search = t.search(texto)\n",
        "check_finditer = t.finditer(texto)\n",
        "print(check_findall)\n",
        "print(check_match)\n",
        "print(check_search)\n",
        "print(check_finditer)"
      ],
      "execution_count": null,
      "outputs": [
        {
          "name": "stdout",
          "output_type": "stream",
          "text": [
            "['a', 'a', 'a']\n",
            "<re.Match object; span=(0, 1), match='a'>\n",
            "<re.Match object; span=(0, 1), match='a'>\n",
            "<callable_iterator object at 0x000001DFC16C9F10>\n"
          ]
        }
      ]
    },
    {
      "cell_type": "code",
      "metadata": {
        "id": "K-nSYVR7nR1v",
        "outputId": "637346f0-b53b-4e1b-e1e2-76aab706ec63"
      },
      "source": [
        "correspondencias = check_finditer\n",
        "for correspondencia in correspondencias:\n",
        "    print(correspondencia)"
      ],
      "execution_count": null,
      "outputs": [
        {
          "name": "stdout",
          "output_type": "stream",
          "text": [
            "<re.Match object; span=(0, 1), match='a'>\n",
            "<re.Match object; span=(2, 3), match='a'>\n",
            "<re.Match object; span=(4, 5), match='a'>\n"
          ]
        }
      ]
    },
    {
      "cell_type": "markdown",
      "metadata": {
        "id": "WNcwMSlHnR1v"
      },
      "source": [
        "## Estruturas"
      ]
    },
    {
      "cell_type": "markdown",
      "metadata": {
        "id": "54aajlLqnR1v"
      },
      "source": [
        "### [] Character set"
      ]
    },
    {
      "cell_type": "code",
      "metadata": {
        "id": "cTubRbHonR1v",
        "outputId": "f06f4332-8c13-490b-8356-c6d532db0e9f"
      },
      "source": [
        "texto = '''\n",
        "Arara 1992\n",
        "'''\n",
        "t = re.compile(r'[a-zA-Z0-9]')\n",
        "correspondencias = t.finditer(texto)\n",
        "for correspondencia in correspondencias:\n",
        "    print(correspondencia)\n",
        "\n"
      ],
      "execution_count": null,
      "outputs": [
        {
          "name": "stdout",
          "output_type": "stream",
          "text": [
            "<re.Match object; span=(1, 2), match='A'>\n",
            "<re.Match object; span=(2, 3), match='r'>\n",
            "<re.Match object; span=(3, 4), match='a'>\n",
            "<re.Match object; span=(4, 5), match='r'>\n",
            "<re.Match object; span=(5, 6), match='a'>\n",
            "<re.Match object; span=(7, 8), match='1'>\n",
            "<re.Match object; span=(8, 9), match='9'>\n",
            "<re.Match object; span=(9, 10), match='9'>\n",
            "<re.Match object; span=(10, 11), match='2'>\n"
          ]
        }
      ]
    },
    {
      "cell_type": "code",
      "metadata": {
        "id": "RWU1eY6lnR1w",
        "outputId": "c65ba7b1-951c-41c4-d3c6-99d2c7b367fe"
      },
      "source": [
        "texto = '''\n",
        "Arara 1992\n",
        "'''\n",
        "t = re.compile(r'[a-zA-Z] [0-9]')\n",
        "correspondencias = t.finditer(texto)\n",
        "for correspondencia in correspondencias:\n",
        "    print(correspondencia)\n"
      ],
      "execution_count": null,
      "outputs": [
        {
          "name": "stdout",
          "output_type": "stream",
          "text": [
            "<re.Match object; span=(5, 8), match='a 1'>\n"
          ]
        }
      ]
    },
    {
      "cell_type": "code",
      "metadata": {
        "id": "2JBGMv-9nR1w",
        "outputId": "57edacbf-1e1e-4155-cebb-64d2fb789a48"
      },
      "source": [
        "texto = '''\n",
        "Arara 1992\n",
        "'''\n",
        "t = re.compile(r'[a-zA-Z]+ [0-9]+')\n",
        "correspondencias = t.finditer(texto)\n",
        "for correspondencia in correspondencias:\n",
        "    print(correspondencia)"
      ],
      "execution_count": null,
      "outputs": [
        {
          "name": "stdout",
          "output_type": "stream",
          "text": [
            "<re.Match object; span=(1, 11), match='Arara 1992'>\n"
          ]
        }
      ]
    },
    {
      "cell_type": "markdown",
      "metadata": {
        "id": "vLd6tcIhnR1w"
      },
      "source": [
        "### Quantificadores:"
      ]
    },
    {
      "cell_type": "code",
      "metadata": {
        "id": "9DWm5738nR1w",
        "outputId": "6d831ec3-4317-4a1d-b319-2cd9facdf8d3"
      },
      "source": [
        "# * - 0 ou mais\n",
        "texto = '''\n",
        "Arara\n",
        "'''\n",
        "t = re.compile(r'[ra]*')\n",
        "correspondencias = t.finditer(texto)\n",
        "for correspondencia in correspondencias:\n",
        "    print(correspondencia)"
      ],
      "execution_count": null,
      "outputs": [
        {
          "name": "stdout",
          "output_type": "stream",
          "text": [
            "<re.Match object; span=(0, 0), match=''>\n",
            "<re.Match object; span=(1, 1), match=''>\n",
            "<re.Match object; span=(2, 6), match='rara'>\n",
            "<re.Match object; span=(6, 6), match=''>\n",
            "<re.Match object; span=(7, 7), match=''>\n"
          ]
        }
      ]
    },
    {
      "cell_type": "code",
      "metadata": {
        "id": "WsrCdw6tnR1x",
        "outputId": "692576a2-cdd0-41e3-d583-5fd192151fb7"
      },
      "source": [
        "# + - 1 ou mais\n",
        "texto = '''\n",
        "Arara\n",
        "'''\n",
        "t = re.compile(r'[ra]+')\n",
        "correspondencias = t.finditer(texto)\n",
        "for correspondencia in correspondencias:\n",
        "    print(correspondencia)"
      ],
      "execution_count": null,
      "outputs": [
        {
          "name": "stdout",
          "output_type": "stream",
          "text": [
            "<re.Match object; span=(2, 6), match='rara'>\n"
          ]
        }
      ]
    },
    {
      "cell_type": "code",
      "metadata": {
        "id": "SlZVFHnxnR1x",
        "outputId": "98c5de14-11f3-4934-e3b9-a26cb1a9cadb"
      },
      "source": [
        "# ? - 0 ou um\n",
        "texto = '''\n",
        "Arara\n",
        "'''\n",
        "t = re.compile(r'[ra]?')\n",
        "correspondencias = t.finditer(texto)\n",
        "for correspondencia in correspondencias:\n",
        "    print(correspondencia)"
      ],
      "execution_count": null,
      "outputs": [
        {
          "name": "stdout",
          "output_type": "stream",
          "text": [
            "<re.Match object; span=(0, 0), match=''>\n",
            "<re.Match object; span=(1, 1), match=''>\n",
            "<re.Match object; span=(2, 3), match='r'>\n",
            "<re.Match object; span=(3, 4), match='a'>\n",
            "<re.Match object; span=(4, 5), match='r'>\n",
            "<re.Match object; span=(5, 6), match='a'>\n",
            "<re.Match object; span=(6, 6), match=''>\n",
            "<re.Match object; span=(7, 7), match=''>\n"
          ]
        }
      ]
    },
    {
      "cell_type": "code",
      "metadata": {
        "id": "H6TWWDg_nR1x",
        "outputId": "6e6fd429-3bfd-4f9e-b523-90a0f3a75030"
      },
      "source": [
        "#{3} - número exato de repetições\n",
        "texto = '''\n",
        "Arara\n",
        "'''\n",
        "t = re.compile(r'[ra]{2}')\n",
        "correspondencias = t.finditer(texto)\n",
        "for correspondencia in correspondencias:\n",
        "    print(correspondencia)"
      ],
      "execution_count": null,
      "outputs": [
        {
          "name": "stdout",
          "output_type": "stream",
          "text": [
            "<re.Match object; span=(2, 4), match='ra'>\n",
            "<re.Match object; span=(4, 6), match='ra'>\n"
          ]
        }
      ]
    },
    {
      "cell_type": "code",
      "metadata": {
        "id": "Afs5JDNnnR1x",
        "outputId": "d63d6e62-fc61-4146-b98c-fefe42a3de64"
      },
      "source": [
        "#{3,4} - de 3 a 4 min e max\n",
        "texto = '''\n",
        "Arara\n",
        "'''\n",
        "t = re.compile(r'[ra]{2,4}')\n",
        "correspondencias = t.finditer(texto)\n",
        "for correspondencia in correspondencias:\n",
        "    print(correspondencia)\n"
      ],
      "execution_count": null,
      "outputs": [
        {
          "name": "stdout",
          "output_type": "stream",
          "text": [
            "<re.Match object; span=(2, 6), match='rara'>\n"
          ]
        }
      ]
    },
    {
      "cell_type": "markdown",
      "metadata": {
        "id": "MLoqOaVfnR1y"
      },
      "source": [
        "### ()Grupos"
      ]
    },
    {
      "cell_type": "code",
      "metadata": {
        "id": "ganrSFVnnR1y",
        "outputId": "ea72ee3d-51d9-44a5-af58-d1eaef7cb3af"
      },
      "source": [
        "texto = '''\n",
        "Arara 1992\n",
        "arara 1993\n",
        "'''\n",
        "t = re.compile(r'(A|a)?[a-z]{4} [0-9]+')\n",
        "correspondencias = t.finditer(texto)\n",
        "for correspondencia in correspondencias:\n",
        "    print(correspondencia)\n",
        "    print(correspondencia.group(0))\n",
        "    print(correspondencia.group(1))"
      ],
      "execution_count": null,
      "outputs": [
        {
          "name": "stdout",
          "output_type": "stream",
          "text": [
            "<re.Match object; span=(1, 11), match='Arara 1992'>\n",
            "Arara 1992\n",
            "A\n",
            "<re.Match object; span=(12, 22), match='arara 1993'>\n",
            "arara 1993\n",
            "a\n"
          ]
        }
      ]
    },
    {
      "cell_type": "markdown",
      "metadata": {
        "id": "_UKBzNRwnR1y"
      },
      "source": [
        "## Textos:"
      ]
    },
    {
      "cell_type": "code",
      "metadata": {
        "id": "PJo8bxg2nR1y",
        "outputId": "447153f4-977c-4ef7-fc74-754761503399"
      },
      "source": [
        "texto1 = '''\n",
        "Sites diversos:\n",
        "https://google.com/\n",
        "https://www.gov.br/\n",
        "https://www.kaiamba.com.br/\n",
        "http://www.faetec.rj.gov.br/\n",
        "'''\n",
        "t = re.compile(r'https?://(www\\.)?([a-zA-Z0-9]+\\.)+(com.br|gov.br|com)')\n",
        "correspondencias = t.finditer(texto1)\n",
        "for correspondencia in correspondencias:\n",
        "    print(correspondencia)\n",
        "    print(correspondencia.group(1))\n",
        "    print(correspondencia.group(2))\n",
        "    print(correspondencia.group(3))\n",
        "\n"
      ],
      "execution_count": null,
      "outputs": [
        {
          "name": "stdout",
          "output_type": "stream",
          "text": [
            "<callable_iterator object at 0x000001DFC3379D30>\n",
            "<re.Match object; span=(17, 35), match='https://google.com'>\n",
            "None\n",
            "google.\n",
            "com\n",
            "<re.Match object; span=(37, 55), match='https://www.gov.br'>\n",
            "None\n",
            "www.\n",
            "gov.br\n",
            "<re.Match object; span=(57, 83), match='https://www.kaiamba.com.br'>\n",
            "www.\n",
            "kaiamba.\n",
            "com.br\n",
            "<re.Match object; span=(85, 112), match='http://www.faetec.rj.gov.br'>\n",
            "www.\n",
            "rj.\n",
            "gov.br\n"
          ]
        }
      ]
    },
    {
      "cell_type": "code",
      "metadata": {
        "id": "FQDRDRWVnR1y"
      },
      "source": [
        "emails = '''\n",
        "Vários e-mails:\n",
        "daniel@dominio.com\n",
        "daniel.candiotto@dominio.com.br\n",
        "DANIEL@dominio.br\n",
        "DANIEL.CANDIOTTO@gov.br\n",
        "danielcandiotto1@dominio1.co\n",
        "daniel_candiotto_1@dominio-dominio.net\n",
        "'''"
      ],
      "execution_count": null,
      "outputs": []
    },
    {
      "cell_type": "code",
      "metadata": {
        "id": "q_i060exnR1y",
        "outputId": "f1696b10-368e-47e0-9cf9-f1315418e638"
      },
      "source": [
        "t = re.compile(r'[a-zA-Z0-9_.+-]+@[a-zA-Z0-9-]+\\.[a-zA-Z0-9-.]+')\n",
        "correspondencias = t.finditer(emails)\n",
        "for correspondencia in correspondencias:\n",
        "    print(correspondencia)\n",
        "\n",
        "    "
      ],
      "execution_count": null,
      "outputs": [
        {
          "name": "stdout",
          "output_type": "stream",
          "text": [
            "<re.Match object; span=(17, 35), match='daniel@dominio.com'>\n",
            "<re.Match object; span=(36, 67), match='daniel.candiotto@dominio.com.br'>\n",
            "<re.Match object; span=(68, 85), match='DANIEL@dominio.br'>\n",
            "<re.Match object; span=(86, 109), match='DANIEL.CANDIOTTO@gov.br'>\n",
            "<re.Match object; span=(110, 138), match='danielcandiotto1@dominio1.co'>\n",
            "<re.Match object; span=(139, 177), match='daniel_candiotto_1@dominio-dominio.net'>\n"
          ]
        }
      ]
    }
  ]
}